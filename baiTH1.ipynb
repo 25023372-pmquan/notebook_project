{
 "cells": [
  {
   "cell_type": "markdown",
   "id": "afca2bdc-b9c0-417d-85bd-a89ea8389ee4",
   "metadata": {},
   "source": [
    "# bài thực hành 1"
   ]
  },
  {
   "cell_type": "code",
   "execution_count": 1,
   "id": "f724b12c-7eeb-4411-ba2b-9ad2863530fd",
   "metadata": {},
   "outputs": [
    {
     "name": "stdout",
     "output_type": "stream",
     "text": [
      "Hello World!\n"
     ]
    }
   ],
   "source": [
    "print(\"Hello World!\")"
   ]
  },
  {
   "cell_type": "code",
   "execution_count": 7,
   "id": "096fb29a-d382-4b12-a621-a2d84ca2978d",
   "metadata": {},
   "outputs": [
    {
     "name": "stdin",
     "output_type": "stream",
     "text": [
      "tên của bạn Phạm Minh Quân\n"
     ]
    },
    {
     "name": "stdout",
     "output_type": "stream",
     "text": [
      "xin chào Phạm Minh Quân\n"
     ]
    }
   ],
   "source": [
    "ten=input(\"tên của bạn\")\n",
    "print(\"xin chào\", ten)"
   ]
  },
  {
   "cell_type": "code",
   "execution_count": 24,
   "id": "ece6e7da-adb6-44c0-ac28-3c35f96f0c13",
   "metadata": {
    "scrolled": true
   },
   "outputs": [
    {
     "name": "stdin",
     "output_type": "stream",
     "text": [
      "nhập số nguyên thứ nhất:  1\n",
      "nhập số nguyên thứ hai:  2\n"
     ]
    },
    {
     "name": "stdout",
     "output_type": "stream",
     "text": [
      "tổng: 3\n",
      "hiệu: -1\n",
      "tích: 2\n",
      "phần nguyên: 0\n",
      "phần dư: 1\n",
      "chia thực: 0.50\n"
     ]
    }
   ],
   "source": [
    "a=int(input(\"nhập số nguyên thứ nhất: \"))\n",
    "b=int(input(\"nhập số nguyên thứ hai: \"))\n",
    "tong=a+b\n",
    "hieu=a-b\n",
    "tich=a*b\n",
    "phan_nguyen=a//b\n",
    "phan_du=a%b\n",
    "chia_thuc=a/b\n",
    "print(\"tổng:\" ,tong)\n",
    "print(\"hiệu:\" ,hieu)\n",
    "print(\"tích:\" ,tich)\n",
    "print(\"phần nguyên:\" ,phan_nguyen)\n",
    "print(\"phần dư:\" ,phan_du)\n",
    "print(\"chia thực:\" ,(f\"{chia_thuc:.2f}\"))\n",
    "    "
   ]
  },
  {
   "cell_type": "code",
   "execution_count": 30,
   "id": "f5b46439-b1bd-4f44-8e0f-14f90e5d2649",
   "metadata": {},
   "outputs": [
    {
     "name": "stdin",
     "output_type": "stream",
     "text": [
      "nhập 6 đầu điểm theo thứ tự a1 b1 c1 a2 b2 a3:  9 9 9 9 9 9\n"
     ]
    },
    {
     "name": "stdout",
     "output_type": "stream",
     "text": [
      "điểm trung bình: 9.00\n"
     ]
    }
   ],
   "source": [
    "a,b,c,d,e,f=map(float ,input(\"nhập 6 đầu điểm theo thứ tự a1 b1 c1 a2 b2 a3: \").split())\n",
    "trung_binh=((a+b+c)+(d+e)*2+f*3)/10\n",
    "print(\"điểm trung bình:\",f\"{trung_binh:.2f}\")"
   ]
  },
  {
   "cell_type": "code",
   "execution_count": 1,
   "id": "4c4a8a14-3c5f-4c00-ba40-54a4fc9c7a39",
   "metadata": {},
   "outputs": [
    {
     "name": "stdin",
     "output_type": "stream",
     "text": [
      "nhập hai số nguyên cách nhau bởi dấu cách: 2 3\n"
     ]
    },
    {
     "name": "stdout",
     "output_type": "stream",
     "text": [
      "kết quả: 8\n"
     ]
    }
   ],
   "source": [
    "a,b=map(int,input(\"nhập hai số nguyên cách nhau bởi dấu cách:\").split())\n",
    "mu=a**b\n",
    "print(\"kết quả:\",mu)"
   ]
  },
  {
   "cell_type": "code",
   "execution_count": 2,
   "id": "bc475fc5-bc21-4f66-b079-b1d3f2fe5603",
   "metadata": {},
   "outputs": [
    {
     "name": "stdin",
     "output_type": "stream",
     "text": [
      "nhập một chữ cái thường 'a...z': a\n"
     ]
    },
    {
     "name": "stdout",
     "output_type": "stream",
     "text": [
      "mã unicode của a là:  97\n",
      "chữ in hoa tương ứng là: A\n"
     ]
    }
   ],
   "source": [
    "chu=input(\"nhập một chữ cái thường 'a...z':\")\n",
    "print(\"mã unicode của\", chu ,\"là: \",ord(chu))\n",
    "print(\"chữ in hoa tương ứng là:\",chu.upper())"
   ]
  },
  {
   "cell_type": "code",
   "execution_count": 9,
   "id": "4c5f6357-061e-496d-a971-2881c46cefae",
   "metadata": {},
   "outputs": [
    {
     "name": "stdout",
     "output_type": "stream",
     "text": [
      "512 512\n"
     ]
    }
   ],
   "source": [
    "A=((13**2)*3+5)\n",
    "B = 13**2*3 + 5\n",
    "print(A  , B)"
   ]
  },
  {
   "cell_type": "code",
   "execution_count": 13,
   "id": "02c80b7a-8205-4eb3-a6c1-ea8c1437b658",
   "metadata": {},
   "outputs": [
    {
     "name": "stdin",
     "output_type": "stream",
     "text": [
      "Độ C: 32\n"
     ]
    },
    {
     "name": "stdout",
     "output_type": "stream",
     "text": [
      "Độ F tương ứng: 89.60\n"
     ]
    }
   ],
   "source": [
    "C=float(input(\"Độ C:\"))\n",
    "F=9/5*C+32\n",
    "print(\"Độ F tương ứng:\",f\"{F:.2f}\")"
   ]
  },
  {
   "cell_type": "code",
   "execution_count": 16,
   "id": "c954411d-9e73-4bdb-b5af-4eb1a5a8e1c1",
   "metadata": {},
   "outputs": [
    {
     "name": "stdin",
     "output_type": "stream",
     "text": [
      "giá chiếc đồng hồ: 320\n"
     ]
    },
    {
     "name": "stdout",
     "output_type": "stream",
     "text": [
      "tổng số tiền phải trả là: 458.00 USD\n"
     ]
    }
   ],
   "source": [
    "a=float(input(\"giá chiếc đồng hồ:\"))\n",
    "x=a+a/100*30+a/100*10+10\n",
    "print(\"tổng số tiền phải trả là:\",f\"{x:.2f}\",\"USD\")        "
   ]
  },
  {
   "cell_type": "code",
   "execution_count": 7,
   "id": "0a01e695-f20f-4e23-ad66-553fdf96e458",
   "metadata": {},
   "outputs": [
    {
     "name": "stdin",
     "output_type": "stream",
     "text": [
      "nhập tên của 3 người: bob alice helen\n"
     ]
    },
    {
     "name": "stdout",
     "output_type": "stream",
     "text": [
      "Hi helen,alice và bob.\n"
     ]
    }
   ],
   "source": [
    "name=input(\"nhập tên của 3 người:\").split()\n",
    "name.reverse()\n",
    "print(f\"Hi {name[0]},{name[1]} và {name[2]}.\")"
   ]
  },
  {
   "cell_type": "code",
   "execution_count": 10,
   "id": "297318cb-1d23-4670-9289-e6a33e9e7315",
   "metadata": {},
   "outputs": [
    {
     "name": "stdin",
     "output_type": "stream",
     "text": [
      "nhập giờ và phút cách nhau bởi dấu cách: 2 30\n"
     ]
    },
    {
     "name": "stdout",
     "output_type": "stream",
     "text": [
      "số giây tương ứng là: 9000.0\n"
     ]
    }
   ],
   "source": [
    "a,b=map(float,input(\"nhập giờ và phút cách nhau bởi dấu cách:\").split())\n",
    "giay=a*3600+b*60\n",
    "print(\"số giây tương ứng là:\", giay)"
   ]
  },
  {
   "cell_type": "code",
   "execution_count": 11,
   "id": "00967222-1b9b-447f-807e-5bf806b2c9ed",
   "metadata": {},
   "outputs": [
    {
     "name": "stdin",
     "output_type": "stream",
     "text": [
      "nhập số độ dài cạnh n rubik: 3\n"
     ]
    },
    {
     "name": "stdout",
     "output_type": "stream",
     "text": [
      "số miếng dán cần dùng là: 54\n"
     ]
    }
   ],
   "source": [
    "n=int(input(\"nhập số độ dài cạnh n rubik:\"))\n",
    "sticker=6*n**2\n",
    "print(\"số miếng dán cần dùng là:\", sticker)"
   ]
  },
  {
   "cell_type": "code",
   "execution_count": 12,
   "id": "42656a5b-baf0-431f-b27e-4911ec444e44",
   "metadata": {},
   "outputs": [
    {
     "name": "stdin",
     "output_type": "stream",
     "text": [
      "nhập hai số nguyên dương: 3 4\n"
     ]
    },
    {
     "name": "stdout",
     "output_type": "stream",
     "text": [
      "hàng đơn vị của tích hai số trên là: 2\n"
     ]
    }
   ],
   "source": [
    "a,b=map(int,input(\"nhập hai số nguyên dương:\").split())\n",
    "tich=a*b%10\n",
    "print(\"hàng đơn vị của tích hai số trên là:\",tich)"
   ]
  },
  {
   "cell_type": "code",
   "execution_count": 15,
   "id": "3933ad71-453e-4a8a-a6a7-b3033e48de23",
   "metadata": {},
   "outputs": [
    {
     "name": "stdin",
     "output_type": "stream",
     "text": [
      "nhập hai giá trị a và b: 1 2\n"
     ]
    },
    {
     "name": "stdout",
     "output_type": "stream",
     "text": [
      "sau khi hoán đổi a = 2 ,b = 1\n"
     ]
    }
   ],
   "source": [
    "a,b=map(int,input(\"nhập hai giá trị a và b:\").split())\n",
    "a,b=b,a\n",
    "print(\"sau khi hoán đổi a =\", a,\",b =\", b)"
   ]
  },
  {
   "cell_type": "code",
   "execution_count": 19,
   "id": "2a5de940-87cf-456f-9184-1740cd2f1e4d",
   "metadata": {},
   "outputs": [
    {
     "name": "stdin",
     "output_type": "stream",
     "text": [
      "nhập một số nguyên dương n: 4\n"
     ]
    },
    {
     "name": "stdout",
     "output_type": "stream",
     "text": [
      "số sao thứ 4 là: 37\n"
     ]
    }
   ],
   "source": [
    "n=int(input(\"nhập một số nguyên dương n:\"))\n",
    "sosao=3*n*(n-1)+1\n",
    "print(f\"số sao thứ {n} là:\" , sosao)"
   ]
  },
  {
   "cell_type": "code",
   "execution_count": 20,
   "id": "055e7552-ea12-41eb-98ad-dcf259d3e10c",
   "metadata": {},
   "outputs": [
    {
     "name": "stdout",
     "output_type": "stream",
     "text": [
      "spring\n",
      "summer\n",
      "autumn\n",
      "winter\n"
     ]
    }
   ],
   "source": [
    "print(\"spring\\nsummer\\nautumn\\nwinter\")"
   ]
  },
  {
   "cell_type": "code",
   "execution_count": 3,
   "id": "3e053163-a605-4dee-a548-16ef80147105",
   "metadata": {},
   "outputs": [
    {
     "name": "stdout",
     "output_type": "stream",
     "text": [
      "  *  \n",
      " *** \n",
      "*****\n"
     ]
    }
   ],
   "source": [
    "print(\"  *  \")\n",
    "print(\" *** \")\n",
    "print(\"*****\")"
   ]
  },
  {
   "cell_type": "code",
   "execution_count": 4,
   "id": "3364ad20-6b79-4bd5-9fc1-6ad327610110",
   "metadata": {},
   "outputs": [
    {
     "name": "stdout",
     "output_type": "stream",
     "text": [
      "###  ##    ###  ###\n",
      " #   # #    #    # \n",
      " #   #  #   #    # \n",
      " #   # #    #    # \n",
      " #   ##     #    # \n"
     ]
    }
   ],
   "source": [
    "print(\"###  ##    ###  ###\")\n",
    "print(\" #   # #    #    # \")\n",
    "print(\" #   #  #   #    # \")\n",
    "print(\" #   # #    #    # \")\n",
    "print(\" #   ##     #    # \")\n",
    "      "
   ]
  },
  {
   "cell_type": "code",
   "execution_count": 30,
   "id": "83304dc2-0c88-4cdf-81f0-e2f25ab715ad",
   "metadata": {},
   "outputs": [
    {
     "name": "stdout",
     "output_type": "stream",
     "text": [
      "Monday\n",
      "Tuesday\n",
      "Wednesday\n",
      "Thursday\n",
      "Friday\n",
      "Saturday\n",
      "Sunday\n"
     ]
    }
   ],
   "source": [
    "print(\"Monday\\nTuesday\\nWednesday\\nThursday\\nFriday\\nSaturday\\nSunday\")"
   ]
  },
  {
   "cell_type": "code",
   "execution_count": 31,
   "id": "84093e62-a978-45a7-90d7-f288f27bbac6",
   "metadata": {
    "scrolled": true
   },
   "outputs": [
    {
     "name": "stdout",
     "output_type": "stream",
     "text": [
      "January\n",
      "February\n",
      "March\n",
      "April\n",
      "May\n",
      "June\n",
      "July\n",
      "August\n",
      "September\n",
      "October\n",
      "November\n",
      "December\n"
     ]
    }
   ],
   "source": [
    "print(\"January\\nFebruary\\nMarch\\nApril\\nMay\\nJune\\nJuly\\nAugust\\nSeptember\\nOctober\\nNovember\\nDecember\")"
   ]
  },
  {
   "cell_type": "code",
   "execution_count": 33,
   "id": "756f34f5-476b-41d3-a403-241ca27ea1ff",
   "metadata": {},
   "outputs": [
    {
     "name": "stdout",
     "output_type": "stream",
     "text": [
      "Hello World!\n",
      "Hello World!\n",
      "Hello World!\n",
      "Hello World!\n",
      "Hello World!\n",
      "Hello World!\n",
      "Hello World!\n",
      "Hello World!\n",
      "Hello World!\n",
      "Hello World!\n"
     ]
    }
   ],
   "source": [
    "i=0\n",
    "while i<10:\n",
    "    print(\"Hello World!\")\n",
    "    i+=1\n"
   ]
  }
 ],
 "metadata": {
  "kernelspec": {
   "display_name": "Python 3 (ipykernel)",
   "language": "python",
   "name": "python3"
  },
  "language_info": {
   "codemirror_mode": {
    "name": "ipython",
    "version": 3
   },
   "file_extension": ".py",
   "mimetype": "text/x-python",
   "name": "python",
   "nbconvert_exporter": "python",
   "pygments_lexer": "ipython3",
   "version": "3.13.5"
  }
 },
 "nbformat": 4,
 "nbformat_minor": 5
}
