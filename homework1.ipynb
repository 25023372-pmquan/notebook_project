{
 "cells": [
  {
   "cell_type": "markdown",
   "id": "1099ba11-6331-4bb3-92f0-cb27604636a0",
   "metadata": {},
   "source": [
    "# bài homework 1"
   ]
  },
  {
   "cell_type": "code",
   "execution_count": 1,
   "id": "abad036b-21f0-46ec-a479-284281164a9c",
   "metadata": {},
   "outputs": [
    {
     "name": "stdin",
     "output_type": "stream",
     "text": [
      "nhập một số nguyên n: 2\n"
     ]
    },
    {
     "name": "stdout",
     "output_type": "stream",
     "text": [
      "số gấp đôi của n là: 4\n"
     ]
    }
   ],
   "source": [
    "n=int(input(\"nhập một số nguyên n:\"))\n",
    "a=2*n\n",
    "print(\"số gấp đôi của n là:\", a)\n",
    "    "
   ]
  },
  {
   "cell_type": "code",
   "execution_count": 4,
   "id": "279d2d15-684d-4d61-9c93-15a96c854f2d",
   "metadata": {},
   "outputs": [
    {
     "name": "stdin",
     "output_type": "stream",
     "text": [
      "chiều dài là: 10\n",
      "chiều rộng là: 5\n"
     ]
    },
    {
     "name": "stdout",
     "output_type": "stream",
     "text": [
      "diện tích trồng cây là: 30.38\n"
     ]
    }
   ],
   "source": [
    "a=float(input(\"chiều dài là:\"))\n",
    "b=float(input(\"chiều rộng là:\"))\n",
    "dien_tich=(a*b)-(3.14*(b/2)**2)\n",
    "print(\"diện tích trồng cây là:\",round(dien_tich,2))\n",
    "#print(\"diện tích trồng cây là:\",f\"{dien_tich:.2f}\")"
   ]
  },
  {
   "cell_type": "code",
   "execution_count": 10,
   "id": "b530c463-b309-4176-98bc-c7e8178ef50e",
   "metadata": {},
   "outputs": [
    {
     "name": "stdin",
     "output_type": "stream",
     "text": [
      "nhập một kí tự: a\n"
     ]
    },
    {
     "name": "stdout",
     "output_type": "stream",
     "text": [
      "chữ in hoa tương ứng là: A\n"
     ]
    }
   ],
   "source": [
    "chu=input(\"nhập một kí tự:\")\n",
    "if chu.isupper():\n",
    "    print(\"chữ thường tương ứng là:\", chu.lower())\n",
    "elif chu.islower():\n",
    "    print(\"chữ in hoa tương ứng là:\", chu.upper())\n",
    "else :\n",
    "    print(\"kí tự khong phải chữ cái\")\n"
   ]
  },
  {
   "cell_type": "code",
   "execution_count": 13,
   "id": "3582f668-ad14-49f6-acb9-048733002433",
   "metadata": {},
   "outputs": [
    {
     "name": "stdin",
     "output_type": "stream",
     "text": [
      "nhập một kí tự: A\n"
     ]
    },
    {
     "name": "stdout",
     "output_type": "stream",
     "text": [
      "A là kí tự alphabet\n"
     ]
    }
   ],
   "source": [
    "chu=input(\"nhập một kí tự:\")\n",
    "if chu.isalpha():\n",
    "    print(f\"{chu} là kí tự alphabet\")\n",
    "else:\n",
    "    print(f\"{chu} không phải là kí tự anphabet\")"
   ]
  },
  {
   "cell_type": "code",
   "execution_count": 19,
   "id": "9886ca49-1dae-47f0-9f61-5ec4d672b9d1",
   "metadata": {},
   "outputs": [
    {
     "name": "stdin",
     "output_type": "stream",
     "text": [
      "nhập một chữ cái hoa B\n"
     ]
    },
    {
     "name": "stdout",
     "output_type": "stream",
     "text": [
      "chữ cái thường liền trước là: a\n"
     ]
    }
   ],
   "source": [
    "c=input(\"nhập một chữ cái hoa\")\n",
    "if c =='A':\n",
    "    print(\"không có kí tự thường nào trước nó\")\n",
    "else :\n",
    "    print(\"chữ cái thường liền trước là:\", chr(ord(c.lower())-1))"
   ]
  },
  {
   "cell_type": "code",
   "execution_count": 26,
   "id": "d2259550-3fce-47a1-bfc3-a0d6f3faca03",
   "metadata": {},
   "outputs": [
    {
     "name": "stdin",
     "output_type": "stream",
     "text": [
      "nhập vào ba số a b c: 5 7 4\n"
     ]
    },
    {
     "name": "stdout",
     "output_type": "stream",
     "text": [
      "diện tích của tam giác là: 9.8\n"
     ]
    }
   ],
   "source": [
    "a,b,c=map(float,input(\"nhập vào ba số a b c:\").split())\n",
    "if a>0 and b>0 and c>0 and a+b>c and a+c>b and b+c>a: \n",
    "    p=(a+b+c)/2\n",
    "    dien_tich=(p*(p-a)*(p-b)*(p-c))**0.5\n",
    "    print(\"diện tích của tam giác là:\",f\"{dien_tich:.1f}\")\n",
    "else :\n",
    "    print(\"không phải ba cạnh một tam giác \")"
   ]
  },
  {
   "cell_type": "code",
   "execution_count": 1,
   "id": "14ae6f79-7b2b-4efe-aef3-c7605ee328eb",
   "metadata": {},
   "outputs": [
    {
     "name": "stdin",
     "output_type": "stream",
     "text": [
      "nhập một chuỗi 20 kí tự thường: eiqfheiwuhfeuhfu\n"
     ]
    },
    {
     "name": "stdout",
     "output_type": "stream",
     "text": [
      "h u\n"
     ]
    }
   ],
   "source": [
    "a=input(\"nhập một chuỗi 20 kí tự thường:\")\n",
    "print(a[4] , a[8])"
   ]
  },
  {
   "cell_type": "code",
   "execution_count": 2,
   "id": "a374cbfc-0eb2-46db-8d3f-4f85e9abb458",
   "metadata": {},
   "outputs": [
    {
     "name": "stdin",
     "output_type": "stream",
     "text": [
      "ten chu ho: PHAM MINH QUAN\n",
      "chi so thang truoc: 2000\n",
      "chi so thang nay: 2586\n"
     ]
    },
    {
     "name": "stdout",
     "output_type": "stream",
     "text": [
      "ho va ten: PHAM MINH QUAN\n",
      "tien phai tra la: 1855505\n"
     ]
    }
   ],
   "source": [
    "name=input(\"ten chu ho:\")\n",
    "truoc=int(input(\"chi so thang truoc:\"))\n",
    "sau=int(input(\"chi so thang nay:\"))\n",
    "kwh=sau-truoc\n",
    "sotien = 0\n",
    "t1=50*1984\n",
    "t2=50*2050\n",
    "t3=100*2380\n",
    "t4=100*2998\n",
    "t5=100*3350\n",
    "if kwh<=50:\n",
    "    sotien=kwh*1984\n",
    "elif 51<=kwh<=100:\n",
    "    sotien=t1+(kwh-50)*2050\n",
    "elif 101<=kwh<=200:\n",
    "    sotien=t1+t2+(kwh-100)*2380\n",
    "elif 201<=kwh<=300:\n",
    "    sotien=t1+t2+t3+(kwh-200)*2998\n",
    "elif 301<=kwh<=400:\n",
    "    sotien=t1+t2+t3+t4+(kwh-300)*3350\n",
    "elif 401<=kwh:\n",
    "    sotien=t1+t2+t3+t4+t5+(kwh-400)*3460\n",
    "tong=sotien*1.08\n",
    "print(\"ho va ten:\",name)\n",
    "print(\"tien phai tra la:\",round(tong))"
   ]
  },
  {
   "cell_type": "code",
   "execution_count": null,
   "id": "822199bb-5795-4220-bb6e-6e39b1301070",
   "metadata": {},
   "outputs": [],
   "source": []
  }
 ],
 "metadata": {
  "kernelspec": {
   "display_name": "Python 3 (ipykernel)",
   "language": "python",
   "name": "python3"
  },
  "language_info": {
   "codemirror_mode": {
    "name": "ipython",
    "version": 3
   },
   "file_extension": ".py",
   "mimetype": "text/x-python",
   "name": "python",
   "nbconvert_exporter": "python",
   "pygments_lexer": "ipython3",
   "version": "3.13.5"
  }
 },
 "nbformat": 4,
 "nbformat_minor": 5
}
