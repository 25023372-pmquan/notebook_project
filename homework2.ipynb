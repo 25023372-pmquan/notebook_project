{
 "cells": [
  {
   "cell_type": "code",
   "execution_count": 1,
   "id": "6619635b-b122-400b-954d-cf354511501b",
   "metadata": {},
   "outputs": [
    {
     "name": "stdin",
     "output_type": "stream",
     "text": [
      "Nhập cạnh a:  3\n",
      "Nhập cạnh b:  4\n"
     ]
    },
    {
     "name": "stdout",
     "output_type": "stream",
     "text": [
      "Diện tích: 12.0\n",
      "Chu vi: 14.0\n"
     ]
    }
   ],
   "source": [
    "a = float(input(\"Nhập cạnh a: \"))\n",
    "b = float(input(\"Nhập cạnh b: \"))\n",
    "print(\"Diện tích:\", a * b)\n",
    "print(\"Chu vi:\", 2 * (a + b))"
   ]
  },
  {
   "cell_type": "code",
   "execution_count": 3,
   "id": "162dea70-72ce-459d-a5a4-63724813a351",
   "metadata": {},
   "outputs": [
    {
     "name": "stdin",
     "output_type": "stream",
     "text": [
      "Nhập bán kính r:  5\n"
     ]
    },
    {
     "name": "stdout",
     "output_type": "stream",
     "text": [
      "Diện tích: 78.53981633974483\n",
      "Chu vi: 31.41592653589793\n"
     ]
    }
   ],
   "source": [
    "import math\n",
    "r = float(input(\"Nhập bán kính r: \"))\n",
    "print(\"Diện tích:\", math.pi * r**2)\n",
    "print(\"Chu vi:\", 2 * math.pi * r)\n"
   ]
  },
  {
   "cell_type": "code",
   "execution_count": 11,
   "id": "c594c34a-6360-4823-a10a-a346967e8729",
   "metadata": {},
   "outputs": [
    {
     "name": "stdin",
     "output_type": "stream",
     "text": [
      "Nhập 3 cạnh a, b, c:  3 4 5\n"
     ]
    },
    {
     "name": "stdout",
     "output_type": "stream",
     "text": [
      "Tam giác vuông\n",
      "Chu vi: 12.0\n",
      "Diện tích: 6.0\n"
     ]
    }
   ],
   "source": [
    "   a, b, c = map(float, input(\"Nhập 3 cạnh a, b, c: \").split())\n",
    "if a + b <= c or a + c <= b or b + c <= a:\n",
    "    print(\"Không là ba cạnh của một tam giác\")\n",
    "else:\n",
    "    if a == b == c:\n",
    "        loai = \"Tam giác đều\"\n",
    "    elif a == b or b == c or a == c:\n",
    "        loai = \"Tam giác cân\"\n",
    "    elif (a*a==b*b+c*c) or (b*b==a*a+c*c) or (c*c==a*a+b*b):    \n",
    "        loai = \"Tam giác vuông\"\n",
    "    else:\n",
    "        loai = \"Tam giác thường\"\n",
    "    p = (a + b + c) / 2\n",
    "    s = math.sqrt(p * (p - a) * (p - b) * (p - c))\n",
    "    print(loai)\n",
    "    print(\"Chu vi:\", 2 * p)\n",
    "    print(\"Diện tích:\", s)"
   ]
  },
  {
   "cell_type": "code",
   "execution_count": 14,
   "id": "2dac3663-993f-424d-b6ba-b5ac5ae00a97",
   "metadata": {},
   "outputs": [
    {
     "name": "stdin",
     "output_type": "stream",
     "text": [
      "Nhập a, b:  3 4\n"
     ]
    },
    {
     "name": "stdout",
     "output_type": "stream",
     "text": [
      "Nghiệm x = -1.3333333333333333\n"
     ]
    }
   ],
   "source": [
    "a, b = map(float, input(\"Nhập a, b: \").split())\n",
    "if a == 0:\n",
    "    if b == 0:\n",
    "        print(\"Vô số nghiệm\")\n",
    "    else:\n",
    "        print(\"Vô nghiệm\")\n",
    "else:\n",
    "    print(\"Nghiệm x =\", -b / a)\n"
   ]
  },
  {
   "cell_type": "code",
   "execution_count": 25,
   "id": "1cb43ec2-226b-420f-9cfd-3dbdda3092e9",
   "metadata": {},
   "outputs": [
    {
     "name": "stdin",
     "output_type": "stream",
     "text": [
      "Nhập a, b, c:  1 9 4\n"
     ]
    },
    {
     "name": "stdout",
     "output_type": "stream",
     "text": [
      "Hai nghiệm: -8.531128874149275 -0.46887112585072543\n"
     ]
    }
   ],
   "source": [
    "a, b, c = map(float, input(\"Nhập a, b, c: \").split())\n",
    "if a == 0:\n",
    "    print(\"Phương trình bậc 1\")\n",
    "    if b == 0:\n",
    "        print(\"Vô nghiệm\" if c != 0 else \"Vô số nghiệm\")\n",
    "    else:\n",
    "        print(\"Nghiệm:\", -c / b)\n",
    "else:\n",
    "    delta = b*b - 4*a*c\n",
    "    if delta < 0:\n",
    "        print(\"Vô nghiệm\")\n",
    "    elif delta == 0:\n",
    "        print(\"Nghiệm kép:\", -b / (2*a))\n",
    "    else:\n",
    "        x1 = (-b - delta**0.5) / (2*a)\n",
    "        x2 = (-b + delta**0.5) / (2*a)\n",
    "        print(\"Hai nghiệm:\", x1, x2)"
   ]
  },
  {
   "cell_type": "code",
   "execution_count": 18,
   "id": "a43ec581-85cc-4dc1-813e-3bd8f8dd7f99",
   "metadata": {},
   "outputs": [
    {
     "name": "stdin",
     "output_type": "stream",
     "text": [
      "Nhập 4 số a, b, c, d:  1 2 3 4\n"
     ]
    },
    {
     "name": "stdout",
     "output_type": "stream",
     "text": [
      "Giá trị lớn nhất: 4.0\n"
     ]
    }
   ],
   "source": [
    "nums = list(map(float, input(\"Nhập 4 số a, b, c, d: \").split()))\n",
    "print(\"Giá trị lớn nhất:\", max(nums))"
   ]
  },
  {
   "cell_type": "code",
   "execution_count": 26,
   "id": "3ba58aad-948d-40c6-acb9-b72ac905360e",
   "metadata": {},
   "outputs": [
    {
     "name": "stdin",
     "output_type": "stream",
     "text": [
      "Nhập 4 số a, b, c, d:  1 2 3 4\n"
     ]
    },
    {
     "name": "stdout",
     "output_type": "stream",
     "text": [
      "Giá trị nhỏ nhất: 1.0\n"
     ]
    }
   ],
   "source": [
    "nums = list(map(float, input(\"Nhập 4 số a, b, c, d: \").split()))\n",
    "print(\"Giá trị nhỏ nhất:\", min(nums))"
   ]
  },
  {
   "cell_type": "code",
   "execution_count": 1,
   "id": "100fbc85-34e4-4dd3-bb00-5c9504793ffd",
   "metadata": {},
   "outputs": [
    {
     "name": "stdout",
     "output_type": "stream",
     "text": [
      "Nghiệm của hệ: [ 2.  3. -1.]\n"
     ]
    }
   ],
   "source": [
    "import numpy as np\n",
    "A = np.array([[2, 1, -1],\n",
    "              [-3, -1, 2],\n",
    "              [-2, 1, 2]])\n",
    "B = np.array([8, -11, -3])\n",
    "x = np.linalg.solve(A, B)\n",
    "print(\"Nghiệm của hệ:\", x)"
   ]
  },
  {
   "cell_type": "code",
   "execution_count": 2,
   "id": "207b8f70-0929-42d6-bcd9-4eaa8befc72d",
   "metadata": {},
   "outputs": [
    {
     "name": "stdin",
     "output_type": "stream",
     "text": [
      "Nhập số giây:  120\n"
     ]
    },
    {
     "name": "stdout",
     "output_type": "stream",
     "text": [
      "0 giờ 2 phút 0 giây\n"
     ]
    }
   ],
   "source": [
    "x = int(input(\"Nhập số giây: \"))\n",
    "h = x // 3600\n",
    "m = (x % 3600) // 60\n",
    "s = x % 60\n",
    "print(h, \"giờ\", m, \"phút\", s, \"giây\")\n"
   ]
  },
  {
   "cell_type": "code",
   "execution_count": 7,
   "id": "a77d30f4-b826-412d-9f6c-b3af86640590",
   "metadata": {},
   "outputs": [
    {
     "name": "stdin",
     "output_type": "stream",
     "text": [
      "Nhập tâm (x0, y0) và bán kính:  0 0 5\n",
      "Nhập điểm A(x, y):  1 2\n"
     ]
    },
    {
     "name": "stdout",
     "output_type": "stream",
     "text": [
      "Điểm A nằm trong đường tròn\n"
     ]
    }
   ],
   "source": [
    "x0, y0, r = map(float, input(\"Nhập tâm (x0, y0) và bán kính: \").split())\n",
    "x, y = map(float, input(\"Nhập điểm A(x, y): \").split())\n",
    "d2 = (x - x0)**2 + (y - y0)**2   \n",
    "r2 = r**2                       \n",
    "if d2 == r2:\n",
    "    print(\"Điểm A nằm trên đường tròn\")\n",
    "elif d2 < r2:\n",
    "    print(\"Điểm A nằm trong đường tròn\")\n",
    "else:\n",
    "    print(\"Điểm A nằm ngoài đường tròn\")"
   ]
  },
  {
   "cell_type": "code",
   "execution_count": 6,
   "id": "93d9df7b-fa9c-4dae-8546-75269808bdad",
   "metadata": {},
   "outputs": [
    {
     "name": "stdin",
     "output_type": "stream",
     "text": [
      "Nhập x, y:  2 3\n"
     ]
    },
    {
     "name": "stdout",
     "output_type": "stream",
     "text": [
      "8.0\n"
     ]
    }
   ],
   "source": [
    "x, y = map(float, input(\"Nhập x, y: \").split())\n",
    "print(x**y)"
   ]
  },
  {
   "cell_type": "code",
   "execution_count": null,
   "id": "ac43780c-597e-4ab5-be74-4c39b17eaee5",
   "metadata": {},
   "outputs": [],
   "source": []
  }
 ],
 "metadata": {
  "kernelspec": {
   "display_name": "Python 3 (ipykernel)",
   "language": "python",
   "name": "python3"
  },
  "language_info": {
   "codemirror_mode": {
    "name": "ipython",
    "version": 3
   },
   "file_extension": ".py",
   "mimetype": "text/x-python",
   "name": "python",
   "nbconvert_exporter": "python",
   "pygments_lexer": "ipython3",
   "version": "3.13.5"
  }
 },
 "nbformat": 4,
 "nbformat_minor": 5
}
