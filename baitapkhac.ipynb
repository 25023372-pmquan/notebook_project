{
 "cells": [
  {
   "cell_type": "code",
   "execution_count": 1,
   "id": "2810e7e9-6913-4a03-ab59-88b935509475",
   "metadata": {},
   "outputs": [
    {
     "name": "stdin",
     "output_type": "stream",
     "text": [
      "nhập một số nguyên: 2\n"
     ]
    },
    {
     "name": "stdout",
     "output_type": "stream",
     "text": [
      "là số chẵn\n"
     ]
    }
   ],
   "source": [
    "s=int(input(\"nhập một số nguyên:\"))\n",
    "if s%2==0 :\n",
    "    print(\"là số chẵn\")\n",
    "else:\n",
    "    print(\"là số chẵn\")"
   ]
  },
  {
   "cell_type": "code",
   "execution_count": 2,
   "id": "4d72b825-f128-42c9-a73c-ea5b14276804",
   "metadata": {},
   "outputs": [
    {
     "name": "stdin",
     "output_type": "stream",
     "text": [
      "nhập một số nguyên: 15\n"
     ]
    },
    {
     "name": "stdout",
     "output_type": "stream",
     "text": [
      "true\n"
     ]
    }
   ],
   "source": [
    "s=int(input(\"nhập một số nguyên:\"))\n",
    "if s%5==0 :\n",
    "    print(\"true\")\n",
    "else:\n",
    "    print(\"false\")\n",
    "    "
   ]
  },
  {
   "cell_type": "code",
   "execution_count": 5,
   "id": "4d83666d-2272-4818-83cf-9e0a87e025e7",
   "metadata": {},
   "outputs": [
    {
     "name": "stdin",
     "output_type": "stream",
     "text": [
      "nhập một số nguyên: 15\n"
     ]
    },
    {
     "name": "stdout",
     "output_type": "stream",
     "text": [
      "true\n"
     ]
    }
   ],
   "source": [
    "s=int(input(\"nhập một số nguyên:\"))\n",
    "if s%3==0 and s%5==0:\n",
    "    print(\"true\")\n",
    "else:\n",
    "    print(\"false\")\n",
    "    "
   ]
  },
  {
   "cell_type": "code",
   "execution_count": 6,
   "id": "cde3bc46-54ec-4df2-8c01-605bc71319f1",
   "metadata": {
    "editable": true,
    "slideshow": {
     "slide_type": "subslide"
    },
    "tags": []
   },
   "outputs": [
    {
     "name": "stdin",
     "output_type": "stream",
     "text": [
      "tuổi của bạn: 18\n"
     ]
    },
    {
     "name": "stdout",
     "output_type": "stream",
     "text": [
      "bạn đã đủ tuổi bầu cử\n"
     ]
    }
   ],
   "source": [
    "age=int(input(\"tuổi của bạn:\"))\n",
    "if age>=18:\n",
    "    print(\"bạn đã đủ tuổi bầu cử\")\n",
    "else:\n",
    "    print(\"bạn chưa đủ tuổi bầu cử\")"
   ]
  },
  {
   "cell_type": "code",
   "execution_count": 4,
   "id": "fde932fa-8938-4d2c-b709-a510b61ea74a",
   "metadata": {},
   "outputs": [
    {
     "name": "stdin",
     "output_type": "stream",
     "text": [
      "nhập hai số nguyên: 2 3\n"
     ]
    },
    {
     "name": "stdout",
     "output_type": "stream",
     "text": [
      "3\n"
     ]
    }
   ],
   "source": [
    "a,b=map(int,input(\"nhập hai số nguyên:\").split())\n",
    "if a>b :\n",
    "    print(a)\n",
    "elif a<b:\n",
    "    print(b)\n",
    "else:\n",
    "    print(\"a bằng b\")"
   ]
  },
  {
   "cell_type": "code",
   "execution_count": 16,
   "id": "12a24037-035a-431b-a7c7-461312eef6e2",
   "metadata": {},
   "outputs": [
    {
     "name": "stdin",
     "output_type": "stream",
     "text": [
      "nhập một kí tự: 12\n"
     ]
    },
    {
     "name": "stdout",
     "output_type": "stream",
     "text": [
      "vui lòng chỉ nhập một kí tự\n"
     ]
    },
    {
     "name": "stdin",
     "output_type": "stream",
     "text": [
      "nhập một kí tự: SD\n"
     ]
    },
    {
     "name": "stdout",
     "output_type": "stream",
     "text": [
      "vui lòng chỉ nhập một kí tự\n"
     ]
    },
    {
     "name": "stdin",
     "output_type": "stream",
     "text": [
      "nhập một kí tự: Q\n"
     ]
    },
    {
     "name": "stdout",
     "output_type": "stream",
     "text": [
      "Q là chữ cái \n"
     ]
    }
   ],
   "source": [
    "while True:\n",
    "    x=input(\"nhập một kí tự:\")\n",
    "    if len(x)==1:\n",
    "        break\n",
    "    else:\n",
    "        print(\"vui lòng chỉ nhập một kí tự\")    \n",
    "if x.isalpha():\n",
    "    print(f\"{x} là chữ cái \")\n",
    "elif x.isdigit():\n",
    "    print(f\"{x} là chữ số\")\n",
    "else:\n",
    "    print(f\"{x} không phải chữ cái không phải số\")"
   ]
  },
  {
   "cell_type": "code",
   "execution_count": 22,
   "id": "bc79c65f-78ea-43c1-a788-c45087d08ca7",
   "metadata": {},
   "outputs": [
    {
     "name": "stdin",
     "output_type": "stream",
     "text": [
      "nhập điểm của bạn: 12\n"
     ]
    },
    {
     "name": "stdout",
     "output_type": "stream",
     "text": [
      "vui lòng nhập đúng điểm của bạn\n"
     ]
    },
    {
     "name": "stdin",
     "output_type": "stream",
     "text": [
      "nhập điểm của bạn: -12\n"
     ]
    },
    {
     "name": "stdout",
     "output_type": "stream",
     "text": [
      "vui lòng nhập đúng điểm của bạn\n"
     ]
    },
    {
     "name": "stdin",
     "output_type": "stream",
     "text": [
      "nhập điểm của bạn: 9\n"
     ]
    },
    {
     "name": "stdout",
     "output_type": "stream",
     "text": [
      "học lực giỏi\n"
     ]
    }
   ],
   "source": [
    "while True:\n",
    "    x=float(input(\"nhập điểm của bạn:\"))\n",
    "    if 0<=x<=10:\n",
    "        break\n",
    "    else:\n",
    "        print(\"vui lòng nhập đúng điểm của bạn\")\n",
    "if x<5:\n",
    "    print(\"học lực yếu\")\n",
    "elif 5<=x<6.5:\n",
    "    print(\"học lực trung bình\")\n",
    "elif 6.5<=x<8:\n",
    "    print(\"học lực khá\")\n",
    "else:\n",
    "    print(\"học lực giỏi\")\n",
    "            \n",
    "    "
   ]
  },
  {
   "cell_type": "code",
   "execution_count": 24,
   "id": "89773699-d03a-4eec-b5c8-d9fbcd4b5aa8",
   "metadata": {},
   "outputs": [
    {
     "name": "stdin",
     "output_type": "stream",
     "text": [
      "năm: 2025\n"
     ]
    },
    {
     "name": "stdout",
     "output_type": "stream",
     "text": [
      "năm 2025 không phải năm nhuận\n"
     ]
    }
   ],
   "source": [
    "year=int(input(\"năm:\"))\n",
    "if year%400==0 or year%4==0 and year%100!=0:\n",
    "    print(f\"năm {year} là năm nhuận\")\n",
    "else:\n",
    "    print(f\"năm {year} không phải năm nhuận\")\n",
    "    "
   ]
  },
  {
   "cell_type": "code",
   "execution_count": null,
   "id": "c9c44bb4-f06e-40bc-bfe0-0b934247f8d1",
   "metadata": {},
   "outputs": [],
   "source": []
  }
 ],
 "metadata": {
  "kernelspec": {
   "display_name": "Python 3 (ipykernel)",
   "language": "python",
   "name": "python3"
  },
  "language_info": {
   "codemirror_mode": {
    "name": "ipython",
    "version": 3
   },
   "file_extension": ".py",
   "mimetype": "text/x-python",
   "name": "python",
   "nbconvert_exporter": "python",
   "pygments_lexer": "ipython3",
   "version": "3.13.5"
  }
 },
 "nbformat": 4,
 "nbformat_minor": 5
}
